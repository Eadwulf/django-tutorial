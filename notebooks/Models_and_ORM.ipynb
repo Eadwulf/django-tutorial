{
 "cells": [
  {
   "cell_type": "code",
   "execution_count": 1,
   "id": "dc259638",
   "metadata": {},
   "outputs": [],
   "source": [
    "import os\n",
    "import django\n",
    "os.environ.setdefault('DJANGO_SETTINGS_MODULE', 'rest.settings')\n",
    "os.environ[\"DJANGO_ALLOW_ASYNC_UNSAFE\"] = \"true\"\n",
    "django.setup()\n"
   ]
  },
  {
   "cell_type": "code",
   "execution_count": 55,
   "id": "56bbcfc0",
   "metadata": {},
   "outputs": [
    {
     "data": {
      "text/plain": [
       "(57, {'models_and_databases.Musician': 57})"
      ]
     },
     "execution_count": 55,
     "metadata": {},
     "output_type": "execute_result"
    }
   ],
   "source": [
    "# Delete all Band instances\n",
    "Band.objects.all().delete()\n",
    "Membership.objects.all().delete()\n",
    "Musician.objects.all().delete()"
   ]
  },
  {
   "cell_type": "code",
   "execution_count": 2,
   "id": "b42ee418",
   "metadata": {},
   "outputs": [],
   "source": [
    "# Membership example\n",
    "from models_and_databases.models import Musician, Band, Membership"
   ]
  },
  {
   "cell_type": "code",
   "execution_count": 56,
   "id": "38b83dec",
   "metadata": {},
   "outputs": [],
   "source": [
    "johan = Musician.objects.create(name = 'Johan Ericson')\n",
    "anders = Musician.objects.create(name = 'Anders Jacobsson')\n",
    "jerry = Musician.objects.create(name = 'Jerry Torstensson')\n",
    "daniel = Musician.objects.create(name = 'Daniel Arvidsson')\n",
    "heike = Musician.objects.create(name = 'Heike Langhans')"
   ]
  },
  {
   "cell_type": "code",
   "execution_count": 57,
   "id": "2250214a",
   "metadata": {},
   "outputs": [],
   "source": [
    "draconian = Band.objects.create(name='Draconian', genre='Doom Metal')"
   ]
  },
  {
   "cell_type": "code",
   "execution_count": 58,
   "id": "5a183964",
   "metadata": {},
   "outputs": [],
   "source": [
    "from datetime import date\n",
    "\n",
    "member_01 = Membership(\n",
    "    musician = johan,\n",
    "    band = draconian,\n",
    "    join_year = 1994,\n",
    "    invite_reason = 'He created the band'\n",
    ")\n",
    "\n",
    "member_02 = Membership(\n",
    "    musician = anders,\n",
    "    band = draconian,\n",
    "    join_year = 1994,\n",
    "    invite_reason = 'A lead vocalist and lyrics composer was needed'\n",
    ")\n",
    "\n",
    "member_03 = Membership(\n",
    "    musician = jerry,\n",
    "    band = draconian,\n",
    "    join_year = 2002,\n",
    "    invite_reason = 'A drummer was needed'\n",
    ")\n",
    "\n",
    "member_04 = Membership(\n",
    "    musician = daniel,\n",
    "    band = draconian,\n",
    "    join_year = 2005,\n",
    "    invite_reason = 'A rhythm guitarrist was needed'\n",
    ")\n",
    "\n",
    "member_05 = Membership(\n",
    "    musician = heike,\n",
    "    band = draconian,\n",
    "    join_year = 2012,\n",
    "    invite_reason = 'Join to do clean vocals'\n",
    ")"
   ]
  },
  {
   "cell_type": "code",
   "execution_count": 59,
   "id": "6be6e202",
   "metadata": {},
   "outputs": [],
   "source": [
    "member_01.save()\n",
    "member_02.save()\n",
    "member_03.save()\n",
    "member_04.save()\n",
    "member_05.save()"
   ]
  },
  {
   "cell_type": "code",
   "execution_count": 60,
   "id": "1cbf351f",
   "metadata": {},
   "outputs": [
    {
     "data": {
      "text/plain": [
       "<QuerySet [<Musician: Johan Ericson>, <Musician: Anders Jacobsson>, <Musician: Jerry Torstensson>, <Musician: Daniel Arvidsson>, <Musician: Heike Langhans>]>"
      ]
     },
     "execution_count": 60,
     "metadata": {},
     "output_type": "execute_result"
    }
   ],
   "source": [
    "\n",
    "draconian.members.all()"
   ]
  },
  {
   "cell_type": "code",
   "execution_count": 61,
   "id": "8f754cad",
   "metadata": {},
   "outputs": [
    {
     "data": {
      "text/plain": [
       "<QuerySet [<Musician: John Lennon>, <Musician: Ringo Starr>, <Musician: Paul McCartney>]>"
      ]
     },
     "execution_count": 61,
     "metadata": {},
     "output_type": "execute_result"
    }
   ],
   "source": [
    "# Example using add(), create() and set() to create relationships\n",
    "\n",
    "# create the Band object\n",
    "beatles = Band.objects.create(name = 'The Beatles', genre = 'rock')\n",
    "\n",
    "# create a Musician objecta\n",
    "john = Musician.objects.create(name = 'John Lennon')\n",
    "ringo = Musician.objects.create(name = 'Ringo Starr')\n",
    "paul = Musician.objects.create(name = 'Paul McCartney')\n",
    "\n",
    "# now, create a Membership object through Band object\n",
    "\n",
    "# using add()\n",
    "beatles.members.add(john, through_defaults={'join_year': 1960})\n",
    "\n",
    "# using create() PS: This is not working. The Musician object is not being instantiated\n",
    "beatles.members.create(name=\"George Harrison\", through_defaults={'join_year': 1960})\n",
    "\n",
    "# using set()\n",
    "beatles.members.set([john, ringo, paul], through_defaults={'join_year': 1960})\n",
    "\n",
    "\n",
    "# list all Musician instances\n",
    "beatles.members.all()"
   ]
  },
  {
   "cell_type": "code",
   "execution_count": 64,
   "id": "472bfd11",
   "metadata": {},
   "outputs": [
    {
     "name": "stdout",
     "output_type": "stream",
     "text": [
      "Johan Ericson is part of Draconian band.\n",
      "Anders Jacobsson is part of Draconian band.\n",
      "Jerry Torstensson is part of Draconian band.\n",
      "Daniel Arvidsson is part of Draconian band.\n",
      "Heike Langhans is part of Draconian band.\n",
      "John Lennon is part of The Beatles band.\n",
      "Ringo Starr is part of The Beatles band.\n",
      "Paul McCartney is part of The Beatles band.\n"
     ]
    }
   ],
   "source": [
    "for membership in Membership.objects.all():\n",
    "    \n",
    "    print(f'{membership.musician.name} is part of {membership.band.name} band.')\n",
    "    "
   ]
  },
  {
   "cell_type": "code",
   "execution_count": 68,
   "id": "035b24c8",
   "metadata": {},
   "outputs": [
    {
     "data": {
      "text/plain": [
       "<QuerySet []>"
      ]
     },
     "execution_count": 68,
     "metadata": {},
     "output_type": "execute_result"
    }
   ],
   "source": [
    "# The clear() method can be used to remove all many-to-many relationships for an instance:\n",
    "beatles.members.clear()\n",
    "\n",
    "beatles.members.all()"
   ]
  },
  {
   "cell_type": "code",
   "execution_count": null,
   "id": "0d956cb6",
   "metadata": {},
   "outputs": [],
   "source": []
  }
 ],
 "metadata": {
  "kernelspec": {
   "display_name": "Django Shell-Plus",
   "language": "python",
   "name": "django_extensions"
  },
  "language_info": {
   "codemirror_mode": {
    "name": "ipython",
    "version": 3
   },
   "file_extension": ".py",
   "mimetype": "text/x-python",
   "name": "python",
   "nbconvert_exporter": "python",
   "pygments_lexer": "ipython3",
   "version": "3.9.9"
  }
 },
 "nbformat": 4,
 "nbformat_minor": 5
}
